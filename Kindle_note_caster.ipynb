{
 "cells": [
  {
   "cell_type": "markdown",
   "id": "fe53f6e0",
   "metadata": {},
   "source": [
    "# Kindle Note Caster\n"
   ]
  },
  {
   "cell_type": "markdown",
   "id": "b9c2eb91",
   "metadata": {},
   "source": [
    "### problématique:\n",
    "\n",
    "kindle fournit un csv ou bien un pdf, pas pratique pour relire ses notes et en faire un seul document facile à lire: je les cast en Microsoft word\n",
    "\n",
    "### détails techniques:\n",
    "\n",
    "https://anaconda.org/conda-forge/python-docx\n",
    "\n",
    "### améliorations possibles:\n",
    "\n",
    "annotation + mettre le nom du titre du livre en haut\n",
    "\n",
    "gestion du chemin absolu ( pour l'instant doit etre dans le dossier)\n",
    "\n",
    "gestion différamment des surlignements et des notes"
   ]
  },
  {
   "cell_type": "code",
   "execution_count": 1,
   "id": "0c392a24",
   "metadata": {},
   "outputs": [],
   "source": [
    "### import\n",
    "\n",
    "import pandas as pd\n",
    "import numpy as np\n",
    "import docx"
   ]
  },
  {
   "cell_type": "code",
   "execution_count": 2,
   "id": "7731632b",
   "metadata": {},
   "outputs": [],
   "source": [
    "#### Nom des chemins:\n",
    "\n",
    "i_chemin_du_csv= \"A.csv\"\n",
    "o_chemin_du_word= \"The_Customer_Success_Professionals_Handbook.docx\"\n"
   ]
  },
  {
   "cell_type": "code",
   "execution_count": 3,
   "id": "9affa1f9",
   "metadata": {},
   "outputs": [
    {
     "data": {
      "text/html": [
       "<div>\n",
       "<style scoped>\n",
       "    .dataframe tbody tr th:only-of-type {\n",
       "        vertical-align: middle;\n",
       "    }\n",
       "\n",
       "    .dataframe tbody tr th {\n",
       "        vertical-align: top;\n",
       "    }\n",
       "\n",
       "    .dataframe thead th {\n",
       "        text-align: right;\n",
       "    }\n",
       "</style>\n",
       "<table border=\"1\" class=\"dataframe\">\n",
       "  <thead>\n",
       "    <tr style=\"text-align: right;\">\n",
       "      <th></th>\n",
       "      <th>Vos notes Kindle pour :</th>\n",
       "      <th>Unnamed: 1</th>\n",
       "      <th>Unnamed: 2</th>\n",
       "      <th>Unnamed: 3</th>\n",
       "    </tr>\n",
       "  </thead>\n",
       "  <tbody>\n",
       "    <tr>\n",
       "      <th>0</th>\n",
       "      <td>THE CUSTOMER SUCCESS PROFESSIONAL'S HANDBOOK: ...</td>\n",
       "      <td>NaN</td>\n",
       "      <td>NaN</td>\n",
       "      <td>NaN</td>\n",
       "    </tr>\n",
       "    <tr>\n",
       "      <th>1</th>\n",
       "      <td>de Ashvin Vaidyanathan, Ruben Rabago</td>\n",
       "      <td>NaN</td>\n",
       "      <td>NaN</td>\n",
       "      <td>NaN</td>\n",
       "    </tr>\n",
       "    <tr>\n",
       "      <th>2</th>\n",
       "      <td>Aperçu instantané Kindle gratuit :</td>\n",
       "      <td>NaN</td>\n",
       "      <td>NaN</td>\n",
       "      <td>NaN</td>\n",
       "    </tr>\n",
       "    <tr>\n",
       "      <th>3</th>\n",
       "      <td>https://amzn.eu/9RsToTG</td>\n",
       "      <td>NaN</td>\n",
       "      <td>NaN</td>\n",
       "      <td>NaN</td>\n",
       "    </tr>\n",
       "    <tr>\n",
       "      <th>4</th>\n",
       "      <td>----------------------------------------------</td>\n",
       "      <td>NaN</td>\n",
       "      <td>NaN</td>\n",
       "      <td>NaN</td>\n",
       "    </tr>\n",
       "    <tr>\n",
       "      <th>...</th>\n",
       "      <td>...</td>\n",
       "      <td>...</td>\n",
       "      <td>...</td>\n",
       "      <td>...</td>\n",
       "    </tr>\n",
       "    <tr>\n",
       "      <th>256</th>\n",
       "      <td>Surlignement (Jaune)</td>\n",
       "      <td>Emplacement 4376</td>\n",
       "      <td>NaN</td>\n",
       "      <td>Depending on the needs of each customer segmen...</td>\n",
       "    </tr>\n",
       "    <tr>\n",
       "      <th>257</th>\n",
       "      <td>Surlignement (Jaune)</td>\n",
       "      <td>Emplacement 4410</td>\n",
       "      <td>NaN</td>\n",
       "      <td>SMB Customer Success Manager versus an Enterpr...</td>\n",
       "    </tr>\n",
       "    <tr>\n",
       "      <th>258</th>\n",
       "      <td>Surlignement (Jaune)</td>\n",
       "      <td>Emplacement 4426</td>\n",
       "      <td>NaN</td>\n",
       "      <td>it is essential to develop two separate career...</td>\n",
       "    </tr>\n",
       "    <tr>\n",
       "      <th>259</th>\n",
       "      <td>Surlignement (Jaune)</td>\n",
       "      <td>Emplacement 4564</td>\n",
       "      <td>NaN</td>\n",
       "      <td>common framework that is still being used for ...</td>\n",
       "    </tr>\n",
       "    <tr>\n",
       "      <th>260</th>\n",
       "      <td>Surlignement (Jaune)</td>\n",
       "      <td>Emplacement 4611</td>\n",
       "      <td>NaN</td>\n",
       "      <td>For Customer Success Manager jobs, we recommen...</td>\n",
       "    </tr>\n",
       "  </tbody>\n",
       "</table>\n",
       "<p>261 rows × 4 columns</p>\n",
       "</div>"
      ],
      "text/plain": [
       "                               Vos notes Kindle pour :        Unnamed: 1  \\\n",
       "0    THE CUSTOMER SUCCESS PROFESSIONAL'S HANDBOOK: ...               NaN   \n",
       "1                 de Ashvin Vaidyanathan, Ruben Rabago               NaN   \n",
       "2                   Aperçu instantané Kindle gratuit :               NaN   \n",
       "3                              https://amzn.eu/9RsToTG               NaN   \n",
       "4       ----------------------------------------------               NaN   \n",
       "..                                                 ...               ...   \n",
       "256                               Surlignement (Jaune)  Emplacement 4376   \n",
       "257                               Surlignement (Jaune)  Emplacement 4410   \n",
       "258                               Surlignement (Jaune)  Emplacement 4426   \n",
       "259                               Surlignement (Jaune)  Emplacement 4564   \n",
       "260                               Surlignement (Jaune)  Emplacement 4611   \n",
       "\n",
       "    Unnamed: 2                                         Unnamed: 3  \n",
       "0          NaN                                                NaN  \n",
       "1          NaN                                                NaN  \n",
       "2          NaN                                                NaN  \n",
       "3          NaN                                                NaN  \n",
       "4          NaN                                                NaN  \n",
       "..         ...                                                ...  \n",
       "256        NaN  Depending on the needs of each customer segmen...  \n",
       "257        NaN  SMB Customer Success Manager versus an Enterpr...  \n",
       "258        NaN  it is essential to develop two separate career...  \n",
       "259        NaN  common framework that is still being used for ...  \n",
       "260        NaN  For Customer Success Manager jobs, we recommen...  \n",
       "\n",
       "[261 rows x 4 columns]"
      ]
     },
     "execution_count": 3,
     "metadata": {},
     "output_type": "execute_result"
    }
   ],
   "source": [
    "### script\n",
    "df=pd.read_csv(i_chemin_du_csv)\n",
    "df"
   ]
  },
  {
   "cell_type": "code",
   "execution_count": 4,
   "id": "a1035e02",
   "metadata": {},
   "outputs": [],
   "source": [
    "o_texte = \"\"\n",
    "List_mot_a_enlever=['nan','Annotation']\n",
    "\n",
    "def concat_text(text):\n",
    "    global o_texte\n",
    "    if (str(text) not in List_mot_a_enlever):\n",
    "        o_texte = o_texte +'\\n\\n'+ str(text)"
   ]
  },
  {
   "cell_type": "code",
   "execution_count": 5,
   "id": "10e05050",
   "metadata": {},
   "outputs": [
    {
     "data": {
      "text/plain": [
       "0      None\n",
       "1      None\n",
       "2      None\n",
       "3      None\n",
       "4      None\n",
       "       ... \n",
       "256    None\n",
       "257    None\n",
       "258    None\n",
       "259    None\n",
       "260    None\n",
       "Name: Unnamed: 3, Length: 261, dtype: object"
      ]
     },
     "execution_count": 5,
     "metadata": {},
     "output_type": "execute_result"
    }
   ],
   "source": [
    "df['Unnamed: 3'].apply(concat_text)"
   ]
  },
  {
   "cell_type": "code",
   "execution_count": 6,
   "id": "0cc586c6",
   "metadata": {},
   "outputs": [],
   "source": [
    "mydoc = docx.Document()\n",
    "mydoc.add_paragraph(o_texte)\n",
    "mydoc.save(o_chemin_du_word)\n"
   ]
  },
  {
   "cell_type": "code",
   "execution_count": null,
   "id": "bef4f9c9",
   "metadata": {},
   "outputs": [],
   "source": []
  },
  {
   "cell_type": "code",
   "execution_count": null,
   "id": "fec64af7",
   "metadata": {},
   "outputs": [],
   "source": []
  }
 ],
 "metadata": {
  "kernelspec": {
   "display_name": "Python 3",
   "language": "python",
   "name": "python3"
  },
  "language_info": {
   "codemirror_mode": {
    "name": "ipython",
    "version": 3
   },
   "file_extension": ".py",
   "mimetype": "text/x-python",
   "name": "python",
   "nbconvert_exporter": "python",
   "pygments_lexer": "ipython3",
   "version": "3.8.8"
  }
 },
 "nbformat": 4,
 "nbformat_minor": 5
}
