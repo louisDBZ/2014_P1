{
    "cells": [
        {
            "cell_type": "markdown",
            "id": "fe53f6e0",
            "metadata": {},
            "source": [
                "# Kindle Note Caster\n"
            ]
        },
        {
            "cell_type": "markdown",
            "id": "b9c2eb91",
            "metadata": {},
            "source": [
                "### probl\u00e9matique:\n",
                "\n",
                "kindle fournit un csv ou bien un pdf, pas pratique pour relire ses notes et en faire un seul document facile \u00e0 lire: je les cast en Microsoft word\n",
                "\n",
                "### d\u00e9tails techniques:\n",
                "\n",
                "https://anaconda.org/conda-forge/python-docx\n",
                "\n",
                "### am\u00e9liorations possibles:\n",
                "\n",
                "annotation + mettre le nom du titre du livre en haut\n",
                "\n",
                "gestion du chemin absolu ( pour l'instant doit etre dans le dossier)\n",
                "\n",
                "gestion diff\u00e9ramment des surlignements et des notes"
            ]
        },
        {
            "cell_type": "code",
            "execution_count": 1,
            "id": "0c392a24",
            "metadata": {},
            "outputs": [],
            "source": [
                "### import\n",
                "\n",
                "import pandas as pd\n",
                "import numpy as np\n",
                "import docx"
            ]
        },
        {
            "cell_type": "code",
            "execution_count": 2,
            "id": "7731632b",
            "metadata": {},
            "outputs": [],
            "source": [
                "#### Nom des chemins:\n",
                "\n",
                "i_chemin_du_csv= \"A.csv\"\n",
                "o_chemin_du_word= \"The_Customer_Success_Professionals_Handbook.docx\"\n"
            ]
        },
        {
            "cell_type": "code",
            "execution_count": 3,
            "id": "9affa1f9",
            "metadata": {},
            "outputs": [],
            "source": [
                "### script\n",
                "df=pd.read_csv(i_chemin_du_csv)\n",
                "df"
            ]
        },
        {
            "cell_type": "code",
            "execution_count": 4,
            "id": "a1035e02",
            "metadata": {},
            "outputs": [],
            "source": [
                "o_texte = \"\"\n",
                "List_mot_a_enlever=['nan','Annotation']\n",
                "\n",
                "def concat_text(text):\n",
                "    global o_texte\n",
                "    if (str(text) not in List_mot_a_enlever):\n",
                "        o_texte = o_texte +'\\n\\n'+ str(text)"
            ]
        },
        {
            "cell_type": "code",
            "execution_count": 5,
            "id": "10e05050",
            "metadata": {},
            "outputs": [],
            "source": [
                "df['Unnamed: 3'].apply(concat_text)"
            ]
        },
        {
            "cell_type": "code",
            "execution_count": 6,
            "id": "0cc586c6",
            "metadata": {},
            "outputs": [],
            "source": [
                "mydoc = docx.Document()\n",
                "mydoc.add_paragraph(o_texte)\n",
                "mydoc.save(o_chemin_du_word)\n"
            ]
        },
        {
            "cell_type": "code",
            "execution_count": null,
            "id": "bef4f9c9",
            "metadata": {},
            "outputs": [],
            "source": []
        },
        {
            "cell_type": "code",
            "execution_count": null,
            "id": "fec64af7",
            "metadata": {},
            "outputs": [],
            "source": []
        }
    ],
    "metadata": {
        "kernelspec": {
            "display_name": "Python 3",
            "language": "python",
            "name": "python3"
        },
        "language_info": {
            "codemirror_mode": {
                "name": "ipython",
                "version": 3
            },
            "file_extension": ".py",
            "mimetype": "text/x-python",
            "name": "python",
            "nbconvert_exporter": "python",
            "pygments_lexer": "ipython3",
            "version": "3.8.8"
        }
    },
    "nbformat": 4,
    "nbformat_minor": 5
}